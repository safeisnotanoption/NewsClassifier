{
 "cells": [
  {
   "cell_type": "code",
   "execution_count": 8,
   "metadata": {
    "collapsed": false
   },
   "outputs": [],
   "source": [
    "import pickle\n",
    "from sklearn.feature_extraction.text import TfidfVectorizer\n",
    "from sklearn.preprocessing import LabelEncoder, LabelBinarizer\n",
    "from sklearn.cross_validation import train_test_split\n",
    "from keras.models import Sequential\n",
    "from keras.layers import Dense, Dropout\n",
    "from sklearn.externals import joblib\n",
    "\n",
    "with open('Data_X.pickle', 'rb') as fx:\n",
    "    x = pickle.load(fx)\n",
    "    tf = TfidfVectorizer(strip_accents='unicode', max_df=0.7, min_df=44, max_features=4096,\n",
    "                         norm='l2', sublinear_tf=True)\n",
    "    x = tf.fit_transform(x).astype('float32').toarray()\n",
    "with open('Data_Y.pickle', 'rb') as fy:\n",
    "    y = pickle.load(fy)\n",
    "    le = LabelEncoder()\n",
    "    le.fit(y)\n",
    "    y = le.transform(y)\n",
    "x_train, x_test, y_train, y_test = train_test_split(x, y, test_size=0.2)\n",
    "lb = LabelBinarizer()\n",
    "lb.fit(y)\n",
    "joblib.dump(tf, 'Data_T.pickle')\n",
    "joblib.dump(lb, 'Data_LB.pickle')\n",
    "del x, y\n",
    "y_train = lb.transform(y_train)\n",
    "y_test = lb.transform(y_test)\n",
    "classifier = Sequential()\n",
    "classifier.add(Dense(output_dim=1024, activation='relu', init='glorot_uniform', input_dim=4096))\n",
    "classifier.add(Dropout(0.2))\n",
    "classifier.add(Dense(output_dim=256, activation='relu', init='glorot_uniform'))\n",
    "classifier.add(Dense(activation='softmax', output_dim=17))\n",
    "classifier.add(Dropout(0.2))\n",
    "classifier.compile(loss='categorical_crossentropy', optimizer='adadelta', metrics=['accuracy'])\n",
    "classifier.fit(x_train, y_train, nb_epoch=10, batch_size=128, shuffle=True, validation_data=(x_test, y_test))\n",
    "classifier.save('Data_Z.mdl')\n"
   ]
  },
  {
   "cell_type": "code",
   "execution_count": null,
   "metadata": {
    "collapsed": true
   },
   "outputs": [],
   "source": []
  }
 ],
 "metadata": {
  "kernelspec": {
   "display_name": "Python 3",
   "language": "python",
   "name": "python3"
  },
  "language_info": {
   "codemirror_mode": {
    "name": "ipython",
    "version": 3
   },
   "file_extension": ".py",
   "mimetype": "text/x-python",
   "name": "python",
   "nbconvert_exporter": "python",
   "pygments_lexer": "ipython3",
   "version": "3.5.2"
  }
 },
 "nbformat": 4,
 "nbformat_minor": 0
}
